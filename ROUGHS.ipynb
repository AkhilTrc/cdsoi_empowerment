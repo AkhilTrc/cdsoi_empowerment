{
 "cells": [
  {
   "cell_type": "code",
   "execution_count": 15,
   "metadata": {},
   "outputs": [
    {
     "data": {
      "text/html": [
       "<div>\n",
       "<style scoped>\n",
       "    .dataframe tbody tr th:only-of-type {\n",
       "        vertical-align: middle;\n",
       "    }\n",
       "\n",
       "    .dataframe tbody tr th {\n",
       "        vertical-align: top;\n",
       "    }\n",
       "\n",
       "    .dataframe thead th {\n",
       "        text-align: right;\n",
       "    }\n",
       "</style>\n",
       "<table border=\"1\" class=\"dataframe\">\n",
       "  <thead>\n",
       "    <tr style=\"text-align: right;\">\n",
       "      <th></th>\n",
       "      <th>Key</th>\n",
       "      <th>Value</th>\n",
       "    </tr>\n",
       "  </thead>\n",
       "  <tbody>\n",
       "    <tr>\n",
       "      <th>0</th>\n",
       "      <td>inv_0</td>\n",
       "      <td>[ 639.18308406 -255.73576348  637.04773904  60...</td>\n",
       "    </tr>\n",
       "    <tr>\n",
       "      <th>1</th>\n",
       "      <td>inv_1</td>\n",
       "      <td>[1096.98146941  496.83017342 -361.68438361  10...</td>\n",
       "    </tr>\n",
       "    <tr>\n",
       "      <th>2</th>\n",
       "      <td>inv_2</td>\n",
       "      <td>[1652.5418414  1322.33694578  278.54915505   4...</td>\n",
       "    </tr>\n",
       "    <tr>\n",
       "      <th>3</th>\n",
       "      <td>inv_3</td>\n",
       "      <td>[ -815.56768372  -258.66304522 -1262.98217508 ...</td>\n",
       "    </tr>\n",
       "    <tr>\n",
       "      <th>4</th>\n",
       "      <td>inv_4</td>\n",
       "      <td>[-1334.24453011 -1492.62892684 -1238.62698062 ...</td>\n",
       "    </tr>\n",
       "    <tr>\n",
       "      <th>...</th>\n",
       "      <td>...</td>\n",
       "      <td>...</td>\n",
       "    </tr>\n",
       "    <tr>\n",
       "      <th>95</th>\n",
       "      <td>inv_95</td>\n",
       "      <td>[ 464.35073975  998.39450737 1507.81642228 106...</td>\n",
       "    </tr>\n",
       "    <tr>\n",
       "      <th>96</th>\n",
       "      <td>inv_96</td>\n",
       "      <td>[ -256.7447771    317.94632556  -876.20969898 ...</td>\n",
       "    </tr>\n",
       "    <tr>\n",
       "      <th>97</th>\n",
       "      <td>inv_97</td>\n",
       "      <td>[  684.56501198 -1432.29134852  -122.87049373 ...</td>\n",
       "    </tr>\n",
       "    <tr>\n",
       "      <th>98</th>\n",
       "      <td>inv_98</td>\n",
       "      <td>[  71.94557924  -70.51933755  150.07106747   1...</td>\n",
       "    </tr>\n",
       "    <tr>\n",
       "      <th>99</th>\n",
       "      <td>inv_99</td>\n",
       "      <td>[  86.55549628  301.29140609 -915.1341706  -64...</td>\n",
       "    </tr>\n",
       "  </tbody>\n",
       "</table>\n",
       "<p>100 rows × 2 columns</p>\n",
       "</div>"
      ],
      "text/plain": [
       "       Key                                              Value\n",
       "0    inv_0  [ 639.18308406 -255.73576348  637.04773904  60...\n",
       "1    inv_1  [1096.98146941  496.83017342 -361.68438361  10...\n",
       "2    inv_2  [1652.5418414  1322.33694578  278.54915505   4...\n",
       "3    inv_3  [ -815.56768372  -258.66304522 -1262.98217508 ...\n",
       "4    inv_4  [-1334.24453011 -1492.62892684 -1238.62698062 ...\n",
       "..     ...                                                ...\n",
       "95  inv_95  [ 464.35073975  998.39450737 1507.81642228 106...\n",
       "96  inv_96  [ -256.7447771    317.94632556  -876.20969898 ...\n",
       "97  inv_97  [  684.56501198 -1432.29134852  -122.87049373 ...\n",
       "98  inv_98  [  71.94557924  -70.51933755  150.07106747   1...\n",
       "99  inv_99  [  86.55549628  301.29140609 -915.1341706  -64...\n",
       "\n",
       "[100 rows x 2 columns]"
      ]
     },
     "execution_count": 15,
     "metadata": {},
     "output_type": "execute_result"
    }
   ],
   "source": [
    "import pandas as pd \n",
    "\n",
    "emp_grad = pd.read_csv('csv_saved\\empgradient_0.csv')\n",
    "emp_grad"
   ]
  },
  {
   "cell_type": "code",
   "execution_count": 34,
   "metadata": {},
   "outputs": [
    {
     "data": {
      "text/plain": [
       "'[ 194.51709945  123.3919377    64.76596379 1786.04800742  -21.47898885\\n  898.39628765   47.13360124   98.69010202 -189.97102413  997.9715369 ]'"
      ]
     },
     "execution_count": 34,
     "metadata": {},
     "output_type": "execute_result"
    }
   ],
   "source": [
    "emp_grad['Value'][12]"
   ]
  }
 ],
 "metadata": {
  "kernelspec": {
   "display_name": "Python 3",
   "language": "python",
   "name": "python3"
  },
  "language_info": {
   "codemirror_mode": {
    "name": "ipython",
    "version": 3
   },
   "file_extension": ".py",
   "mimetype": "text/x-python",
   "name": "python",
   "nbconvert_exporter": "python",
   "pygments_lexer": "ipython3",
   "version": "3.10.11"
  }
 },
 "nbformat": 4,
 "nbformat_minor": 2
}
